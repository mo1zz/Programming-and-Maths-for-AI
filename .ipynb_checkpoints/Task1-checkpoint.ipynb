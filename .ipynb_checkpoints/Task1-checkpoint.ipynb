{
 "cells": [
  {
   "cell_type": "markdown",
   "id": "b2e9c910-dd58-40ed-8bdc-1db78dca9fe8",
   "metadata": {},
   "source": [
    "Import Libraries"
   ]
  },
  {
   "cell_type": "code",
   "execution_count": 5,
   "id": "0f89fb88-0dfa-4c32-bd82-4dc4ac33e0e0",
   "metadata": {},
   "outputs": [],
   "source": [
    "import numpy as np\n",
    "import tensorflow as tf\n",
    "import matplotlib.pyplot as plt\n",
    "from sklearn.metrics import confusion_matrix, f1_score, precision_score, recall_score, classification_report"
   ]
  },
  {
   "cell_type": "markdown",
   "id": "e65543cb-12e1-42f6-89a3-8e8764bd1315",
   "metadata": {},
   "source": [
    "Load Data"
   ]
  },
  {
   "cell_type": "code",
   "execution_count": 7,
   "id": "a1cecdae-85b9-4fe8-a395-2e298bb1e7ba",
   "metadata": {},
   "outputs": [],
   "source": [
    "(x_train, y_train), (x_test, y_test) = tf.keras.datasets.mnist.load_data()"
   ]
  },
  {
   "cell_type": "markdown",
   "id": "168c91e5-d9e9-4905-8887-e1d53320f988",
   "metadata": {},
   "source": [
    "Data Shaping"
   ]
  },
  {
   "cell_type": "code",
   "execution_count": 9,
   "id": "8b6c8fd8-8b90-45c6-aa93-82e294e5d693",
   "metadata": {},
   "outputs": [],
   "source": [
    "x_train = x_train.reshape(-1, 28*28).astype('float32') / 255.0\n",
    "x_test = x_test.reshape(-1, 28*28).astype('float32') / 255.0\n",
    "y_train = y_train.astype('int32')\n",
    "y_test = y_test.astype('int32')"
   ]
  },
  {
   "cell_type": "markdown",
   "id": "3d1798c1-d975-41c5-af9e-ac2322f6df0b",
   "metadata": {},
   "source": [
    "Print shape"
   ]
  },
  {
   "cell_type": "code",
   "execution_count": 11,
   "id": "a9ef3249-6f0d-4f08-b9a2-3aa24bd1d296",
   "metadata": {},
   "outputs": [
    {
     "name": "stdout",
     "output_type": "stream",
     "text": [
      "Train Images Shape: (60000, 784)\n",
      "Train Labels Shape: (60000,)\n",
      "Test Images Shape: (10000, 784)\n",
      "Test Labels Shape: (10000,)\n"
     ]
    }
   ],
   "source": [
    "print(f'Train Images Shape: {x_train.shape}')\n",
    "print(f'Train Labels Shape: {y_train.shape}')\n",
    "print(f'Test Images Shape: {x_test.shape}')\n",
    "print(f'Test Labels Shape: {y_test.shape}')"
   ]
  },
  {
   "cell_type": "code",
   "execution_count": 12,
   "id": "9f95f799-1f9a-4732-9c16-8946e3f63823",
   "metadata": {},
   "outputs": [
    {
     "data": {
      "image/png": "[encoded data removed]",
      "text/plain": [
       "<Figure size 1000x200 with 3 Axes>"
      ]
     },
     "metadata": {},
     "output_type": "display_data"
    }
   ],
   "source": [
    "def visualize_images(images, labels, num_images=5):\n",
    "    images = images.reshape((-1, 28, 28))\n",
    "    plt.figure(figsize=(10, 2))\n",
    "    for i in range(num_images):\n",
    "        plt.subplot(1, num_images, i + 1)\n",
    "        plt.imshow(images[i], cmap='gray')\n",
    "        plt.title(\"Label: {}\".format(np.argmax(labels[i])))\n",
    "        plt.axis('off')\n",
    "    plt.show()\n",
    "\n",
    "visualize_images(x_train, y_train, num_images=3)"
   ]
  },
  {
   "cell_type": "code",
   "execution_count": 13,
   "id": "ff4bd7c9-2051-45d6-b1e0-1f26f862ef2e",
   "metadata": {},
   "outputs": [],
   "source": [
    "import numpy as np\n",
    "\n",
    "class SimpleNeuralNetwork:\n",
    "    def __init__(self, input_size, hidden_size, output_size):\n",
    "        self.input_size = input_size\n",
    "        self.hidden_size = hidden_size\n",
    "        self.output_size = output_size\n",
    "\n",
    "        # Initialize weights and biases\n",
    "        self.W1 = np.random.randn(hidden_size, input_size) / np.sqrt(input_size)\n",
    "        self.b1 = np.zeros((hidden_size, 1))\n",
    "        self.W2 = np.random.randn(output_size, hidden_size) / np.sqrt(hidden_size)\n",
    "        self.b2 = np.zeros((output_size, 1))\n",
    "\n",
    "    def sigmoid(self, z):\n",
    "        return 1 / (1 + np.exp(-z))\n",
    "\n",
    "    def sigmoid_derivative(self, z):\n",
    "        s = self.sigmoid(z)\n",
    "        return s * (1 - s)\n",
    "\n",
    "    def softmax(self, z):\n",
    "        exp_z = np.exp(z - np.max(z))\n",
    "        return exp_z / exp_z.sum(axis=0, keepdims=True)\n",
    "\n",
    "    def forward(self, X):\n",
    "        # Hidden layer\n",
    "        self.Z1 = np.dot(self.W1, X) + self.b1\n",
    "        self.A1 = self.sigmoid(self.Z1)\n",
    "        \n",
    "        # Output layer\n",
    "        self.Z2 = np.dot(self.W2, self.A1) + self.b2\n",
    "        self.A2 = self.softmax(self.Z2)\n",
    "        \n",
    "        return self.A2\n",
    "\n",
    "    def backward(self, X, Y, output):\n",
    "        m = X.shape[1]\n",
    "        \n",
    "        # Output layer\n",
    "        dZ2 = output - Y\n",
    "        dW2 = (1/m) * np.dot(dZ2, self.A1.T)\n",
    "        db2 = (1/m) * np.sum(dZ2, axis=1, keepdims=True)\n",
    "        \n",
    "        # Hidden layer\n",
    "        dZ1 = np.dot(self.W2.T, dZ2) * self.sigmoid_derivative(self.Z1)\n",
    "        dW1 = (1/m) * np.dot(dZ1, X.T)\n",
    "        db1 = (1/m) * np.sum(dZ1, axis=1, keepdims=True)\n",
    "        \n",
    "        return dW1, db1, dW2, db2\n",
    "\n",
    "    def train(self, X, Y, learning_rate, epochs):\n",
    "        for _ in range(epochs):\n",
    "            # Forward pass\n",
    "            output = self.forward(X)\n",
    "            \n",
    "            # Backward pass\n",
    "            dW1, db1, dW2, db2 = self.backward(X, Y, output)\n",
    "            \n",
    "            # Update parameters\n",
    "            self.W1 -= learning_rate * dW1\n",
    "            self.b1 -= learning_rate * db1\n",
    "            self.W2 -= learning_rate * dW2\n",
    "            self.b2 -= learning_rate * db2\n",
    "\n",
    "    def predict(self, X):\n",
    "        output = self.forward(X)\n",
    "        return np.argmax(output, axis=0)\n",
    "\n",
    "    def evaluate(self, X, Y):\n",
    "        predictions = self.predict(X)\n",
    "        accuracy = np.mean(predictions == Y)\n",
    "        return accuracy"
   ]
  },
  {
   "cell_type": "code",
   "execution_count": null,
   "id": "40e08576-f75d-4083-b19c-36e76f61c449",
   "metadata": {},
   "outputs": [],
   "source": []
  }
 ],
 "metadata": {
  "kernelspec": {
   "display_name": "Python 3 (ipykernel)",
   "language": "python",
   "name": "python3"
  },
  "language_info": {
   "codemirror_mode": {
    "name": "ipython",
    "version": 3
   },
   "file_extension": ".py",
   "mimetype": "text/x-python",
   "name": "python",
   "nbconvert_exporter": "python",
   "pygments_lexer": "ipython3",
   "version": "3.12.4"
  }
 },
 "nbformat": 4,
 "nbformat_minor": 5
}
