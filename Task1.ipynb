{
 "cells": [
  {
   "cell_type": "markdown",
   "id": "b2e9c910-dd58-40ed-8bdc-1db78dca9fe8",
   "metadata": {},
   "source": [
    "Import Libraries"
   ]
  },
  {
   "cell_type": "code",
   "execution_count": null,
   "id": "0f89fb88-0dfa-4c32-bd82-4dc4ac33e0e0",
   "metadata": {},
   "outputs": [],
   "source": [
    "import numpy as np\n",
    "import tensorflow as tf\n",
    "import matplotlib.pyplot as plt\n",
    "from sklearn.metrics import confusion_matrix, f1_score, precision_score, recall_score, classification_report"
   ]
  },
  {
   "cell_type": "markdown",
   "id": "e65543cb-12e1-42f6-89a3-8e8764bd1315",
   "metadata": {},
   "source": [
    "Load Data"
   ]
  },
  {
   "cell_type": "code",
   "execution_count": 3,
   "id": "a1cecdae-85b9-4fe8-a395-2e298bb1e7ba",
   "metadata": {},
   "outputs": [
    {
     "name": "stdout",
     "output_type": "stream",
     "text": [
      "Downloading data from https://storage.googleapis.com/tensorflow/tf-keras-datasets/mnist.npz\n",
      "\u001b[1m11490434/11490434\u001b[0m \u001b[32m━━━━━━━━━━━━━━━━━━━━\u001b[0m\u001b[37m\u001b[0m \u001b[1m2s\u001b[0m 0us/step\n"
     ]
    }
   ],
   "source": [
    "(x_train, y_train), (x_test, y_test) = tf.keras.datasets.mnist.load_data()"
   ]
  },
  {
   "cell_type": "markdown",
   "id": "168c91e5-d9e9-4905-8887-e1d53320f988",
   "metadata": {},
   "source": [
    "Data Shaping"
   ]
  },
  {
   "cell_type": "code",
   "execution_count": 5,
   "id": "8b6c8fd8-8b90-45c6-aa93-82e294e5d693",
   "metadata": {},
   "outputs": [],
   "source": [
    "x_train = x_train.reshape(-1, 28*28).astype('float32') / 255.0\n",
    "x_test = x_test.reshape(-1, 28*28).astype('float32') / 255.0\n",
    "y_train = y_train.astype('int32')\n",
    "y_test = y_test.astype('int32')"
   ]
  },
  {
   "cell_type": "markdown",
   "id": "3d1798c1-d975-41c5-af9e-ac2322f6df0b",
   "metadata": {},
   "source": [
    "Print shape"
   ]
  },
  {
   "cell_type": "code",
   "execution_count": 41,
   "id": "a9ef3249-6f0d-4f08-b9a2-3aa24bd1d296",
   "metadata": {},
   "outputs": [
    {
     "name": "stdout",
     "output_type": "stream",
     "text": [
      "Train Images Shape: (60000, 784)\n",
      "Train Labels Shape: (60000,)\n",
      "Test Images Shape: (10000, 784)\n",
      "Test Labels Shape: (10000,)\n"
     ]
    }
   ],
   "source": [
    "print(f'Train Images Shape: {x_train.shape}')\n",
    "print(f'Train Labels Shape: {y_train.shape}')\n",
    "print(f'Test Images Shape: {x_test.shape}')\n",
    "print(f'Test Labels Shape: {y_test.shape}')"
   ]
  },
  {
   "cell_type": "code",
   "execution_count": null,
   "id": "9f95f799-1f9a-4732-9c16-8946e3f63823",
   "metadata": {},
   "outputs": [],
   "source": []
  }
 ],
 "metadata": {
  "kernelspec": {
   "display_name": "Python 3 (ipykernel)",
   "language": "python",
   "name": "python3"
  },
  "language_info": {
   "codemirror_mode": {
    "name": "ipython",
    "version": 3
   },
   "file_extension": ".py",
   "mimetype": "text/x-python",
   "name": "python",
   "nbconvert_exporter": "python",
   "pygments_lexer": "ipython3",
   "version": "3.12.4"
  }
 },
 "nbformat": 4,
 "nbformat_minor": 5
}
